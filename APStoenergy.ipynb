{
 "cells": [
  {
   "cell_type": "markdown",
   "metadata": {},
   "source": [
    "Convert output file from energy dispersive XRD on beamline 13-ID-D (APS) from detector channels to energy."
   ]
  },
  {
   "cell_type": "code",
   "execution_count": 11,
   "metadata": {},
   "outputs": [],
   "source": [
    "import numpy as np\n",
    "from matplotlib import pyplot"
   ]
  },
  {
   "cell_type": "markdown",
   "metadata": {},
   "source": [
    "Load data file and read channel energy calibration factors and two theta from the first few lines, then find the line on which the data starts."
   ]
  },
  {
   "cell_type": "code",
   "execution_count": 8,
   "metadata": {},
   "outputs": [],
   "source": [
    "lookup = 'DATA'\n",
    "filename='/home/nick/Nextcloud/python_vm_documents/ANU_LVP_APS_Nov2017/T2118/diff/T2118.026'\n",
    "with open(filename) as file:\n",
    "    for num, line in enumerate(file, 1):\n",
    "        if 'CAL_OFFSET' in line:\n",
    "            offsetline=line\n",
    "        if 'CAL_SLOPE' in line:\n",
    "            slopeline=line\n",
    "        if 'TWO_THETA' in line:\n",
    "            thetaline=line\n",
    "        if lookup in line:\n",
    "            datastart=num"
   ]
  },
  {
   "cell_type": "markdown",
   "metadata": {},
   "source": [
    "Extract calibration coefficients and two theta as floats. "
   ]
  },
  {
   "cell_type": "code",
   "execution_count": 9,
   "metadata": {},
   "outputs": [],
   "source": [
    "offsetline=offsetline.split(':')\n",
    "offset=float(offsetline[1])\n",
    "\n",
    "slopeline=slopeline.split(':')\n",
    "slope=float(slopeline[1])\n",
    "\n",
    "thetaline=thetaline.split(':')\n",
    "twotheta=float(thetaline[1])"
   ]
  },
  {
   "cell_type": "markdown",
   "metadata": {},
   "source": [
    "Read data columns into numpy array and add channel numbers."
   ]
  },
  {
   "cell_type": "code",
   "execution_count": 12,
   "metadata": {},
   "outputs": [],
   "source": [
    "data = np.loadtxt(filename, skiprows=datastart)\n",
    "datalen = len(data)\n",
    "\n",
    "channel=np.zeros(datalen)\n",
    "\n",
    "for i in range(0,datalen):\n",
    "    channel[i]=i"
   ]
  },
  {
   "cell_type": "markdown",
   "metadata": {},
   "source": [
    "Convert channel number to energy using calibration factors from file (a better way to do this might have been to make a pandas dataframe with all of these in it)."
   ]
  },
  {
   "cell_type": "code",
   "execution_count": 13,
   "metadata": {},
   "outputs": [],
   "source": [
    "energy=channel*slope+offset"
   ]
  }
 ],
 "metadata": {
  "kernelspec": {
   "display_name": "Python 3",
   "language": "python",
   "name": "python3"
  },
  "language_info": {
   "codemirror_mode": {
    "name": "ipython",
    "version": 3
   },
   "file_extension": ".py",
   "mimetype": "text/x-python",
   "name": "python",
   "nbconvert_exporter": "python",
   "pygments_lexer": "ipython3",
   "version": "3.6.4"
  }
 },
 "nbformat": 4,
 "nbformat_minor": 2
}
